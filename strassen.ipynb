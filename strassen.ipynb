{
 "nbformat": 4,
 "nbformat_minor": 2,
 "metadata": {
  "language_info": {
   "name": "python",
   "codemirror_mode": {
    "name": "ipython",
    "version": 3
   }
  },
  "orig_nbformat": 2,
  "file_extension": ".py",
  "mimetype": "text/x-python",
  "name": "python",
  "npconvert_exporter": "python",
  "pygments_lexer": "ipython3",
  "version": 3
 },
 "cells": [
  {
   "cell_type": "markdown",
   "execution_count": 2,
   "metadata": {},
   "outputs": [
    {
     "ename": "IndentationError",
     "evalue": "unexpected indent (<ipython-input-2-eaf751644197>, line 2)",
     "output_type": "error",
     "traceback": [
      "\u001b[1;36m  File \u001b[1;32m\"<ipython-input-2-eaf751644197>\"\u001b[1;36m, line \u001b[1;32m2\u001b[0m\n\u001b[1;33m    - numpyで定義する\u001b[0m\n\u001b[1;37m    ^\u001b[0m\n\u001b[1;31mIndentationError\u001b[0m\u001b[1;31m:\u001b[0m unexpected indent\n"
     ]
    }
   ],
   "source": [
    "# Strassenのアルゴリズム\n",
    "\n",
    "N次の正方行列の積は、結果の行列の一要素の計算にN回の積とN-1≒N回の加算が必要で、  \n",
    "要素数はNxNあるので全体で$O(N^3)$の計算量になるが、小行列に分割統治して計算するとほんの少しだけ計算量が少なく済む。  \n",
    "大きなNに対して$O(N^{log_2{7}}) \\simeq O(N^{2.8})$ で計算できる。詳しくは[奥村本](https://www.amazon.co.jp/dp/B07CG4RMT5)、[Wikipedia](https://en.wikipedia.org/wiki/Strassen_algorithm)。    \n",
    "Pythonでそのままやるとnumpy.dot()の方が遥かに早い。残念。"
   ]
  },
  {
   "cell_type": "code",
   "execution_count": 1,
   "metadata": {},
   "outputs": [
    {
     "data": {
      "text/plain": "True"
     },
     "execution_count": 1,
     "metadata": {},
     "output_type": "execute_result"
    }
   ],
   "source": [
    "import numpy as np\n",
    "\n",
    "def mulMat(A,B):\n",
    "    assert(A.shape == B.shape)\n",
    "    shape = A.shape\n",
    "    if shape[0] == 1 :\n",
    "        return A[0,0]*B[0,0]\n",
    "    #\n",
    "    half = int(shape[0]/2)\n",
    "    size = shape[0]\n",
    "    A11 = A[0:half,    0:half]\n",
    "    A12 = A[0:half,    half:size]\n",
    "    A21 = A[half:size, 0:half]\n",
    "    A22 = A[half:size, half:size]\n",
    "    B11 = B[0:half,    0:half]\n",
    "    B12 = B[0:half,    half:size]\n",
    "    B21 = B[half:size, 0:half]\n",
    "    B22 = B[half:size, half:size]\n",
    "    #\n",
    "    M1  = mulMat(A11+A22, B11+B22)\n",
    "    M2  = mulMat(A21+A22, B11)\n",
    "    M3  = mulMat(A11,B12-B22)\n",
    "    M4  = mulMat(A22,B21-B11)\n",
    "    M5  = mulMat(A11+A12,B22)\n",
    "    M6  = mulMat(A21-A11,B11+B12)\n",
    "    M7  = mulMat(A12-A22,B21+B22)\n",
    "    #\n",
    "    C11 = M1 + M4 - M5 + M7\n",
    "    C12 = M3 + M5\n",
    "    C21 = M2 + M4\n",
    "    C22 = M1 + M3 - M2 + M6\n",
    "    C = np.empty((size,size))\n",
    "    C[0:half,    0:half]    = C11\n",
    "    C[half:size, 0:half]    = C21\n",
    "    C[0:half,    half:size] = C12\n",
    "    C[half:size, half:size] = C22\n",
    "    return C\n",
    "\n",
    "# テスト\n",
    "A = np.random.rand(64,64)\n",
    "B = np.random.rand(64,64)\n",
    "C0 = mulMat(A,B)\n",
    "C1 = np.dot(A,B)\n",
    "np.allclose(C0,C1)"
   ]
  }
 ]
}